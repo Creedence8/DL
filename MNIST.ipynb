{
 "cells": [
  {
   "cell_type": "code",
   "execution_count": 15,
   "metadata": {},
   "outputs": [
    {
     "name": "stdout",
     "output_type": "stream",
     "text": [
      "_________________________________________________________________\n",
      "Layer (type)                 Output Shape              Param #   \n",
      "=================================================================\n",
      "dense_9 (Dense)              (None, 800)               628000    \n",
      "_________________________________________________________________\n",
      "dense_10 (Dense)             (None, 10)                8010      \n",
      "=================================================================\n",
      "Total params: 636,010\n",
      "Trainable params: 636,010\n",
      "Non-trainable params: 0\n",
      "_________________________________________________________________\n",
      "None\n",
      "Train on 48000 samples, validate on 12000 samples\n",
      "Epoch 1/5\n",
      "6s - loss: 1.3439 - acc: 0.6805 - val_loss: 0.7938 - val_acc: 0.8448\n",
      "Epoch 2/5\n",
      "6s - loss: 0.6827 - acc: 0.8464 - val_loss: 0.5423 - val_acc: 0.8741\n",
      "Epoch 3/5\n",
      "6s - loss: 0.5267 - acc: 0.8712 - val_loss: 0.4504 - val_acc: 0.8888\n",
      "Epoch 4/5\n",
      "7s - loss: 0.4559 - acc: 0.8836 - val_loss: 0.4026 - val_acc: 0.8975\n",
      "Epoch 5/5\n",
      "11s - loss: 0.4143 - acc: 0.8914 - val_loss: 0.3714 - val_acc: 0.9019\n",
      "Точность работы на тестовых данных: 90.35%\n"
     ]
    }
   ],
   "source": [
    "import numpy\n",
    "from keras.models import Sequential\n",
    "from keras.layers import Dense\n",
    "from keras.utils import np_utils\n",
    "from keras.datasets import mnist\n",
    "\n",
    "# Устанавливаем seed для повторяемости результатов\n",
    "numpy.random.seed(42)\n",
    "\n",
    "# Загружаем данные\n",
    "(X_train, y_train), (X_test, y_test) = mnist.load_data()\n",
    "\n",
    "# Преобразование размерности изображений\n",
    "X_train = X_train.reshape(60000, 784)\n",
    "X_test = X_test.reshape(10000, 784)\n",
    "\n",
    "# Нормализация данных\n",
    "X_train = X_train.astype('float32')\n",
    "X_test = X_test.astype('float32')\n",
    "X_train /= 255\n",
    "X_test /= 255\n",
    "\n",
    "# Преобразуем метки в категории\n",
    "Y_train = np_utils.to_categorical(y_train, 10)\n",
    "Y_test = np_utils.to_categorical(y_test, 10)\n",
    "\n",
    "# Создаем последовательную модель\n",
    "model = Sequential()\n",
    "\n",
    "# Добавляем уровни сети\n",
    "model.add(Dense(800, input_dim=784, activation=\"relu\", kernel_initializer=\"normal\"))\n",
    "model.add(Dense(10, activation=\"softmax\", kernel_initializer=\"normal\"))\n",
    "\n",
    "# Компилируем модель\n",
    "model.compile(loss=\"categorical_crossentropy\", optimizer=\"SGD\", metrics=[\"accuracy\"])\n",
    "\n",
    "print(model.summary())\n",
    "\n",
    "# Обучаем сеть\n",
    "model.fit(X_train, Y_train, batch_size=200, epochs=5, validation_split=0.2, verbose=2)\n",
    "\n",
    "# Оцениваем качество обучения сети на тестовых данных\n",
    "scores = model.evaluate(X_test, Y_test, verbose=0)\n",
    "print(\"Точность работы на тестовых данных: %.2f%%\" % (scores[1]*100))"
   ]
  },
  {
   "cell_type": "code",
   "execution_count": 12,
   "metadata": {},
   "outputs": [
    {
     "name": "stdout",
     "output_type": "stream",
     "text": [
      "[5 0 4 ..., 5 6 8]\n",
      "[5 0 4 ..., 5 6 8]\n",
      "60000\n"
     ]
    }
   ],
   "source": [
    "#Запускаем сеть на входных данных\n",
    "predictions=model.predict(X_train)\n",
    "\n",
    "#Преобразуем выходные данные в метки классов (цифры от 0 до 9)\n",
    "predictions = numpy.argmax(predictions, axis=1)\n",
    "\n",
    "print(predictions)\n",
    "print(y_train)\n",
    "print(len(predictions))"
   ]
  },
  {
   "cell_type": "code",
   "execution_count": 5,
   "metadata": {},
   "outputs": [
    {
     "name": "stdout",
     "output_type": "stream",
     "text": [
      "4.3289239418 %\n"
     ]
    }
   ],
   "source": [
    "res=0\n",
    "for i in range(60000):\n",
    "    if y_train[i]!=0:\n",
    "        res += (abs(predictions[i]-y_train[i])/y_train[i])\n",
    "print(res/600,'%')    "
   ]
  },
  {
   "cell_type": "code",
   "execution_count": null,
   "metadata": {
    "collapsed": true
   },
   "outputs": [],
   "source": []
  }
 ],
 "metadata": {
  "kernelspec": {
   "display_name": "Python 3",
   "language": "python",
   "name": "python3"
  },
  "language_info": {
   "codemirror_mode": {
    "name": "ipython",
    "version": 3
   },
   "file_extension": ".py",
   "mimetype": "text/x-python",
   "name": "python",
   "nbconvert_exporter": "python",
   "pygments_lexer": "ipython3",
   "version": "3.6.1"
  }
 },
 "nbformat": 4,
 "nbformat_minor": 2
}
