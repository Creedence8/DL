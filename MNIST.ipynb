{
 "cells": [
  {
   "cell_type": "code",
   "execution_count": 6,
   "metadata": {},
   "outputs": [
    {
     "name": "stdout",
     "output_type": "stream",
     "text": [
      "_________________________________________________________________\n",
      "Layer (type)                 Output Shape              Param #   \n",
      "=================================================================\n",
      "dense_3 (Dense)              (None, 800)               628000    \n",
      "_________________________________________________________________\n",
      "dense_4 (Dense)              (None, 10)                8010      \n",
      "=================================================================\n",
      "Total params: 636,010\n",
      "Trainable params: 636,010\n",
      "Non-trainable params: 0\n",
      "_________________________________________________________________\n",
      "None\n",
      "Train on 48000 samples, validate on 12000 samples\n",
      "Epoch 1/25\n",
      "7s - loss: 1.3439 - acc: 0.6805 - val_loss: 0.7938 - val_acc: 0.8448\n",
      "Epoch 2/25\n",
      "15s - loss: 0.6827 - acc: 0.8464 - val_loss: 0.5423 - val_acc: 0.8741\n",
      "Epoch 3/25\n",
      "10s - loss: 0.5267 - acc: 0.8712 - val_loss: 0.4504 - val_acc: 0.8888\n",
      "Epoch 4/25\n",
      "11s - loss: 0.4559 - acc: 0.8836 - val_loss: 0.4026 - val_acc: 0.8975\n",
      "Epoch 5/25\n",
      "8s - loss: 0.4143 - acc: 0.8914 - val_loss: 0.3714 - val_acc: 0.9019\n",
      "Epoch 6/25\n",
      "7s - loss: 0.3860 - acc: 0.8969 - val_loss: 0.3501 - val_acc: 0.9050\n",
      "Epoch 7/25\n",
      "10s - loss: 0.3650 - acc: 0.9013 - val_loss: 0.3336 - val_acc: 0.9079\n",
      "Epoch 8/25\n",
      "8s - loss: 0.3487 - acc: 0.9045 - val_loss: 0.3208 - val_acc: 0.9113\n",
      "Epoch 9/25\n",
      "6s - loss: 0.3353 - acc: 0.9072 - val_loss: 0.3101 - val_acc: 0.9144\n",
      "Epoch 10/25\n",
      "9s - loss: 0.3240 - acc: 0.9107 - val_loss: 0.3015 - val_acc: 0.9172\n",
      "Epoch 11/25\n",
      "16s - loss: 0.3143 - acc: 0.9126 - val_loss: 0.2935 - val_acc: 0.9201\n",
      "Epoch 12/25\n",
      "15s - loss: 0.3056 - acc: 0.9147 - val_loss: 0.2862 - val_acc: 0.9209\n",
      "Epoch 13/25\n",
      "12s - loss: 0.2979 - acc: 0.9170 - val_loss: 0.2799 - val_acc: 0.9224\n",
      "Epoch 14/25\n",
      "8s - loss: 0.2909 - acc: 0.9188 - val_loss: 0.2736 - val_acc: 0.9251\n",
      "Epoch 15/25\n",
      "8s - loss: 0.2844 - acc: 0.9206 - val_loss: 0.2686 - val_acc: 0.9263\n",
      "Epoch 16/25\n",
      "9s - loss: 0.2784 - acc: 0.9223 - val_loss: 0.2639 - val_acc: 0.9270\n",
      "Epoch 17/25\n",
      "9s - loss: 0.2730 - acc: 0.9239 - val_loss: 0.2591 - val_acc: 0.9286\n",
      "Epoch 18/25\n",
      "10s - loss: 0.2678 - acc: 0.9254 - val_loss: 0.2545 - val_acc: 0.9302\n",
      "Epoch 19/25\n",
      "13s - loss: 0.2629 - acc: 0.9265 - val_loss: 0.2505 - val_acc: 0.9317\n",
      "Epoch 20/25\n",
      "9s - loss: 0.2582 - acc: 0.9281 - val_loss: 0.2466 - val_acc: 0.9319\n",
      "Epoch 21/25\n",
      "10s - loss: 0.2539 - acc: 0.9291 - val_loss: 0.2429 - val_acc: 0.9335\n",
      "Epoch 22/25\n",
      "7s - loss: 0.2496 - acc: 0.9307 - val_loss: 0.2395 - val_acc: 0.9341\n",
      "Epoch 23/25\n",
      "6s - loss: 0.2457 - acc: 0.9319 - val_loss: 0.2362 - val_acc: 0.9353\n",
      "Epoch 24/25\n",
      "9s - loss: 0.2418 - acc: 0.9328 - val_loss: 0.2336 - val_acc: 0.9354\n",
      "Epoch 25/25\n",
      "9s - loss: 0.2382 - acc: 0.9341 - val_loss: 0.2298 - val_acc: 0.9367\n"
     ]
    },
    {
     "data": {
      "text/plain": [
       "<keras.callbacks.History at 0x7efef7251710>"
      ]
     },
     "execution_count": 6,
     "metadata": {},
     "output_type": "execute_result"
    }
   ],
   "source": [
    "import numpy\n",
    "from keras.models import Sequential\n",
    "from keras.layers import Dense\n",
    "from keras.utils import np_utils\n",
    "from keras.datasets import mnist\n",
    "\n",
    "# Устанавливаем seed для повторяемости результатов\n",
    "numpy.random.seed(42)\n",
    "\n",
    "# Загружаем данные\n",
    "(X_train, y_train), (X_test, y_test) = mnist.load_data()\n",
    "\n",
    "# Преобразование размерности изображений\n",
    "X_train = X_train.reshape(60000, 784)\n",
    "\n",
    "# Нормализация данных\n",
    "X_train = X_train.astype('float32')\n",
    "X_train /= 255\n",
    "\n",
    "# Преобразуем метки в категории\n",
    "Y_train = np_utils.to_categorical(y_train, 10)\n",
    "\n",
    "# Создаем последовательную модель\n",
    "model = Sequential()\n",
    "\n",
    "# Добавляем уровни сети\n",
    "model.add(Dense(800, input_dim=784, activation=\"relu\", kernel_initializer=\"normal\"))\n",
    "model.add(Dense(10, activation=\"softmax\", kernel_initializer=\"normal\"))\n",
    "\n",
    "# Компилируем модель\n",
    "model.compile(loss=\"categorical_crossentropy\", optimizer=\"SGD\", metrics=[\"accuracy\"])\n",
    "\n",
    "print(model.summary())\n",
    "\n",
    "# Обучаем сеть\n",
    "model.fit(X_train, Y_train, batch_size=200, epochs=25, validation_split=0.2, verbose=2)\n",
    "\n"
   ]
  },
  {
   "cell_type": "code",
   "execution_count": 11,
   "metadata": {},
   "outputs": [
    {
     "name": "stdout",
     "output_type": "stream",
     "text": [
      "[5 0 4 ..., 5 6 8]\n",
      "[5 0 4 ..., 5 6 8]\n",
      "60000\n"
     ]
    }
   ],
   "source": [
    "#Запускаем сеть на входных данных\n",
    "predictions=model.predict(X_train)\n",
    "\n",
    "#Преобразуем выходные данные в метки классов (цифры от 0 до 9)\n",
    "predictions = numpy.argmax(predictions, axis=1)\n",
    "\n",
    "print(predictions)\n",
    "print(y_train)\n",
    "print(len(predictions))"
   ]
  },
  {
   "cell_type": "code",
   "execution_count": null,
   "metadata": {
    "collapsed": true
   },
   "outputs": [],
   "source": []
  }
 ],
 "metadata": {
  "kernelspec": {
   "display_name": "Python 3",
   "language": "python",
   "name": "python3"
  },
  "language_info": {
   "codemirror_mode": {
    "name": "ipython",
    "version": 3
   },
   "file_extension": ".py",
   "mimetype": "text/x-python",
   "name": "python",
   "nbconvert_exporter": "python",
   "pygments_lexer": "ipython3",
   "version": "3.6.1"
  }
 },
 "nbformat": 4,
 "nbformat_minor": 2
}
